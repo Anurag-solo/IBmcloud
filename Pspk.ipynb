{
    "cells": [
        {
            "metadata": {},
            "cell_type": "code",
            "source": "\nimport os, types\nimport pandas as pd\nfrom botocore.client import Config\nimport ibm_boto3\n\ndef __iter__(self): return 0\n\n# @hidden_cell\n# The following code accesses a file in your IBM Cloud Object Storage. It includes your credentials.\n# You might want to remove those credentials before you share the notebook.\ncos_client = ibm_boto3.client(service_name='s3',\n    ibm_api_key_id='E5KCzaSLSA2dBssOU_FJksfHj22DqtKZN0BK-a6rENCw',\n    ibm_auth_endpoint=\"https://iam.cloud.ibm.com/oidc/token\",\n    config=Config(signature_version='oauth'),\n    endpoint_url='https://s3.private.eu-gb.cloud-object-storage.appdomain.cloud')\n\nbucket = 'anurag-donotdelete-pr-xzidduk36lposj'\nobject_key = 'matches.csv'\n\nbody = cos_client.get_object(Bucket=bucket,Key=object_key)['Body']\n# add missing __iter__ method, so pandas accepts body as file-like object\nif not hasattr(body, \"__iter__\"): body.__iter__ = types.MethodType( __iter__, body )\n\ndf_data_1 = pd.read_csv(body)\ndf_data_1.head()\n\n",
            "execution_count": 1,
            "outputs": [
                {
                    "output_type": "execute_result",
                    "execution_count": 1,
                    "data": {
                        "text/plain": "   season                 team1                        team2        date  \\\n0    2023   Chennai Super Kings               Gujarat Titans  2023/03/31   \n1    2023          Punjab Kings        Kolkata Knight Riders  2023/04/01   \n2    2023  Lucknow Super Giants               Delhi Capitals  2023/04/01   \n3    2023      Rajasthan Royals          Sunrisers Hyderabad  2023/04/02   \n4    2023        Mumbai Indians  Royal Challengers Bangalore  2023/04/02   \n\n   match_number                                              venue  \\\n0             1                              Narendra Modi Stadium   \n1             2       Punjab Cricket Association IS Bindra Stadium   \n2             3  Bharat Ratna Shri Atal Bihari Vajpayee Ekana C...   \n3             4                 Rajiv Gandhi International Stadium   \n4             5                              M Chinnaswamy Stadium   \n\n         city                  toss_winner toss_decision player_of_match  \\\n0   Ahmedabad               Gujarat Titans         field     Rashid Khan   \n1  Chandigarh        Kolkata Knight Riders         field  Arshdeep Singh   \n2     Lucknow               Delhi Capitals         field         MA Wood   \n3   Hyderabad          Sunrisers Hyderabad         field      JC Buttler   \n4   Bengaluru  Royal Challengers Bangalore         field    F du Plessis   \n\n                 umpire1        umpire2        reserve_umpire  \\\n0            Nitin Menon     HAS Khalid             A Bengeri   \n1           BNJ Oxenford       YC Barde              PM Joshi   \n2           AK Chaudhary  NA Patwardhan            M Kuppuraj   \n3  KN Ananthapadmanabhan       R Pandit  Abhijit Bhattacharya   \n4            Nitin Menon   Tapan Sharma             A Bengeri   \n\n     match_referee                       winner  winner_runs  winner_wickets  \\\n0        J Srinath               Gujarat Titans          NaN             5.0   \n1         M Nayyar                 Punjab Kings          7.0             NaN   \n2       DS Manohar         Lucknow Super Giants         50.0             NaN   \n3  V Narayan Kutty             Rajasthan Royals         72.0             NaN   \n4        J Srinath  Royal Challengers Bangalore          NaN             8.0   \n\n  match_type  \n0      Group  \n1      Group  \n2      Group  \n3      Group  \n4      Group  ",
                        "text/html": "<div>\n<style scoped>\n    .dataframe tbody tr th:only-of-type {\n        vertical-align: middle;\n    }\n\n    .dataframe tbody tr th {\n        vertical-align: top;\n    }\n\n    .dataframe thead th {\n        text-align: right;\n    }\n</style>\n<table border=\"1\" class=\"dataframe\">\n  <thead>\n    <tr style=\"text-align: right;\">\n      <th></th>\n      <th>season</th>\n      <th>team1</th>\n      <th>team2</th>\n      <th>date</th>\n      <th>match_number</th>\n      <th>venue</th>\n      <th>city</th>\n      <th>toss_winner</th>\n      <th>toss_decision</th>\n      <th>player_of_match</th>\n      <th>umpire1</th>\n      <th>umpire2</th>\n      <th>reserve_umpire</th>\n      <th>match_referee</th>\n      <th>winner</th>\n      <th>winner_runs</th>\n      <th>winner_wickets</th>\n      <th>match_type</th>\n    </tr>\n  </thead>\n  <tbody>\n    <tr>\n      <th>0</th>\n      <td>2023</td>\n      <td>Chennai Super Kings</td>\n      <td>Gujarat Titans</td>\n      <td>2023/03/31</td>\n      <td>1</td>\n      <td>Narendra Modi Stadium</td>\n      <td>Ahmedabad</td>\n      <td>Gujarat Titans</td>\n      <td>field</td>\n      <td>Rashid Khan</td>\n      <td>Nitin Menon</td>\n      <td>HAS Khalid</td>\n      <td>A Bengeri</td>\n      <td>J Srinath</td>\n      <td>Gujarat Titans</td>\n      <td>NaN</td>\n      <td>5.0</td>\n      <td>Group</td>\n    </tr>\n    <tr>\n      <th>1</th>\n      <td>2023</td>\n      <td>Punjab Kings</td>\n      <td>Kolkata Knight Riders</td>\n      <td>2023/04/01</td>\n      <td>2</td>\n      <td>Punjab Cricket Association IS Bindra Stadium</td>\n      <td>Chandigarh</td>\n      <td>Kolkata Knight Riders</td>\n      <td>field</td>\n      <td>Arshdeep Singh</td>\n      <td>BNJ Oxenford</td>\n      <td>YC Barde</td>\n      <td>PM Joshi</td>\n      <td>M Nayyar</td>\n      <td>Punjab Kings</td>\n      <td>7.0</td>\n      <td>NaN</td>\n      <td>Group</td>\n    </tr>\n    <tr>\n      <th>2</th>\n      <td>2023</td>\n      <td>Lucknow Super Giants</td>\n      <td>Delhi Capitals</td>\n      <td>2023/04/01</td>\n      <td>3</td>\n      <td>Bharat Ratna Shri Atal Bihari Vajpayee Ekana C...</td>\n      <td>Lucknow</td>\n      <td>Delhi Capitals</td>\n      <td>field</td>\n      <td>MA Wood</td>\n      <td>AK Chaudhary</td>\n      <td>NA Patwardhan</td>\n      <td>M Kuppuraj</td>\n      <td>DS Manohar</td>\n      <td>Lucknow Super Giants</td>\n      <td>50.0</td>\n      <td>NaN</td>\n      <td>Group</td>\n    </tr>\n    <tr>\n      <th>3</th>\n      <td>2023</td>\n      <td>Rajasthan Royals</td>\n      <td>Sunrisers Hyderabad</td>\n      <td>2023/04/02</td>\n      <td>4</td>\n      <td>Rajiv Gandhi International Stadium</td>\n      <td>Hyderabad</td>\n      <td>Sunrisers Hyderabad</td>\n      <td>field</td>\n      <td>JC Buttler</td>\n      <td>KN Ananthapadmanabhan</td>\n      <td>R Pandit</td>\n      <td>Abhijit Bhattacharya</td>\n      <td>V Narayan Kutty</td>\n      <td>Rajasthan Royals</td>\n      <td>72.0</td>\n      <td>NaN</td>\n      <td>Group</td>\n    </tr>\n    <tr>\n      <th>4</th>\n      <td>2023</td>\n      <td>Mumbai Indians</td>\n      <td>Royal Challengers Bangalore</td>\n      <td>2023/04/02</td>\n      <td>5</td>\n      <td>M Chinnaswamy Stadium</td>\n      <td>Bengaluru</td>\n      <td>Royal Challengers Bangalore</td>\n      <td>field</td>\n      <td>F du Plessis</td>\n      <td>Nitin Menon</td>\n      <td>Tapan Sharma</td>\n      <td>A Bengeri</td>\n      <td>J Srinath</td>\n      <td>Royal Challengers Bangalore</td>\n      <td>NaN</td>\n      <td>8.0</td>\n      <td>Group</td>\n    </tr>\n  </tbody>\n</table>\n</div>"
                    },
                    "metadata": {}
                }
            ]
        },
        {
            "metadata": {},
            "cell_type": "code",
            "source": "",
            "execution_count": null,
            "outputs": []
        }
    ],
    "metadata": {
        "kernelspec": {
            "name": "python3",
            "display_name": "Python 3.10",
            "language": "python"
        },
        "language_info": {
            "name": "python",
            "version": "3.10.13",
            "mimetype": "text/x-python",
            "codemirror_mode": {
                "name": "ipython",
                "version": 3
            },
            "pygments_lexer": "ipython3",
            "nbconvert_exporter": "python",
            "file_extension": ".py"
        }
    },
    "nbformat": 4,
    "nbformat_minor": 1
}